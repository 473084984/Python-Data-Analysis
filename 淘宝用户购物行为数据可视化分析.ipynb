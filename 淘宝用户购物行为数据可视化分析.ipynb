{
 "cells": [
  {
   "cell_type": "code",
   "execution_count": 1,
   "id": "cabffc26-01e9-488a-ad84-f4e172782efe",
   "metadata": {},
   "outputs": [],
   "source": [
    "import pandas as pd\n",
    "import numpy as np\n",
    "import matplotlib.pyplot as plt\n",
    "import seaborn as sns"
   ]
  },
  {
   "cell_type": "code",
   "execution_count": 2,
   "id": "289299ba-36c1-4f42-987f-801cfa78e9a2",
   "metadata": {},
   "outputs": [],
   "source": [
    "import pandas as pd\n",
    "data = pd.read_csv(\"D:\\桌面\\数据集\\阿里云天池数据\\\\user_action.csv\") ##读取数据"
   ]
  },
  {
   "cell_type": "markdown",
   "id": "245c4804-65bf-4cbf-bfd6-70ad3924cf1b",
   "metadata": {},
   "source": [
    "# 数据说明\n",
    "数据中有5个维度的字段,其分别表示用户id、商品id、用户行为类型、商品类别以及时间信息,这里我们列出这些字段的主要信息： <br>\n",
    "user_id：用户id，是每一个用户的唯一标识符 <br>\n",
    "item_id：商品id，是每一个商品的唯一标识符 <br>\n",
    "behavior_type：用户对商品的行为类型，包括浏览、收藏、加购物车、购买，对应取值分别是1、2、3、4 <br>\n",
    "item_category：商品类别标识 <br>\n",
    "timestamp：时间戳，是用户对商品的行为发生的时间,精确到时"
   ]
  },
  {
   "cell_type": "markdown",
   "id": "d6dee637-6816-42a5-9325-60b311b75a21",
   "metadata": {},
   "source": [
    "# 数据清洗和处理"
   ]
  },
  {
   "cell_type": "code",
   "execution_count": 3,
   "id": "d6c68843-cd30-470e-ad51-b5cfc3bfe5c0",
   "metadata": {},
   "outputs": [
    {
     "data": {
      "text/html": [
       "<div>\n",
       "<style scoped>\n",
       "    .dataframe tbody tr th:only-of-type {\n",
       "        vertical-align: middle;\n",
       "    }\n",
       "\n",
       "    .dataframe tbody tr th {\n",
       "        vertical-align: top;\n",
       "    }\n",
       "\n",
       "    .dataframe thead th {\n",
       "        text-align: right;\n",
       "    }\n",
       "</style>\n",
       "<table border=\"1\" class=\"dataframe\">\n",
       "  <thead>\n",
       "    <tr style=\"text-align: right;\">\n",
       "      <th></th>\n",
       "      <th>user_id</th>\n",
       "      <th>item_id</th>\n",
       "      <th>behavior_type</th>\n",
       "      <th>item_category</th>\n",
       "      <th>time</th>\n",
       "    </tr>\n",
       "  </thead>\n",
       "  <tbody>\n",
       "    <tr>\n",
       "      <th>0</th>\n",
       "      <td>98047837</td>\n",
       "      <td>232431562</td>\n",
       "      <td>1</td>\n",
       "      <td>4245</td>\n",
       "      <td>2014-12-06 02</td>\n",
       "    </tr>\n",
       "    <tr>\n",
       "      <th>1</th>\n",
       "      <td>97726136</td>\n",
       "      <td>383583590</td>\n",
       "      <td>1</td>\n",
       "      <td>5894</td>\n",
       "      <td>2014-12-09 20</td>\n",
       "    </tr>\n",
       "    <tr>\n",
       "      <th>2</th>\n",
       "      <td>98607707</td>\n",
       "      <td>64749712</td>\n",
       "      <td>1</td>\n",
       "      <td>2883</td>\n",
       "      <td>2014-12-18 11</td>\n",
       "    </tr>\n",
       "    <tr>\n",
       "      <th>3</th>\n",
       "      <td>98662432</td>\n",
       "      <td>320593836</td>\n",
       "      <td>1</td>\n",
       "      <td>6562</td>\n",
       "      <td>2014-12-06 10</td>\n",
       "    </tr>\n",
       "    <tr>\n",
       "      <th>4</th>\n",
       "      <td>98145908</td>\n",
       "      <td>290208520</td>\n",
       "      <td>1</td>\n",
       "      <td>13926</td>\n",
       "      <td>2014-12-16 21</td>\n",
       "    </tr>\n",
       "    <tr>\n",
       "      <th>5</th>\n",
       "      <td>93784494</td>\n",
       "      <td>337869048</td>\n",
       "      <td>1</td>\n",
       "      <td>3979</td>\n",
       "      <td>2014-12-03 20</td>\n",
       "    </tr>\n",
       "    <tr>\n",
       "      <th>6</th>\n",
       "      <td>94832743</td>\n",
       "      <td>105749725</td>\n",
       "      <td>1</td>\n",
       "      <td>9559</td>\n",
       "      <td>2014-12-13 20</td>\n",
       "    </tr>\n",
       "    <tr>\n",
       "      <th>7</th>\n",
       "      <td>95290487</td>\n",
       "      <td>76866650</td>\n",
       "      <td>1</td>\n",
       "      <td>10875</td>\n",
       "      <td>2014-11-27 16</td>\n",
       "    </tr>\n",
       "    <tr>\n",
       "      <th>8</th>\n",
       "      <td>96610296</td>\n",
       "      <td>161166643</td>\n",
       "      <td>1</td>\n",
       "      <td>3064</td>\n",
       "      <td>2014-12-11 23</td>\n",
       "    </tr>\n",
       "    <tr>\n",
       "      <th>9</th>\n",
       "      <td>100684618</td>\n",
       "      <td>21751142</td>\n",
       "      <td>3</td>\n",
       "      <td>2158</td>\n",
       "      <td>2014-12-05 23</td>\n",
       "    </tr>\n",
       "  </tbody>\n",
       "</table>\n",
       "</div>"
      ],
      "text/plain": [
       "     user_id    item_id  behavior_type  item_category           time\n",
       "0   98047837  232431562              1           4245  2014-12-06 02\n",
       "1   97726136  383583590              1           5894  2014-12-09 20\n",
       "2   98607707   64749712              1           2883  2014-12-18 11\n",
       "3   98662432  320593836              1           6562  2014-12-06 10\n",
       "4   98145908  290208520              1          13926  2014-12-16 21\n",
       "5   93784494  337869048              1           3979  2014-12-03 20\n",
       "6   94832743  105749725              1           9559  2014-12-13 20\n",
       "7   95290487   76866650              1          10875  2014-11-27 16\n",
       "8   96610296  161166643              1           3064  2014-12-11 23\n",
       "9  100684618   21751142              3           2158  2014-12-05 23"
      ]
     },
     "execution_count": 3,
     "metadata": {},
     "output_type": "execute_result"
    }
   ],
   "source": [
    "data.head(10)  ##查看前10条数据"
   ]
  },
  {
   "cell_type": "code",
   "execution_count": 4,
   "id": "c8670567-0822-4806-84c9-4ae33cda2c57",
   "metadata": {},
   "outputs": [
    {
     "name": "stdout",
     "output_type": "stream",
     "text": [
      "共有10000个不同的用户，2876947个不同的商品,8916个不同的商品类别\n"
     ]
    }
   ],
   "source": [
    "unique_user_id = data['user_id'].nunique()  ##用户id的数量\n",
    "unique_item_id = data['item_id'].nunique()  ##商品id的数量\n",
    "unique_item_category = data['item_category'].nunique()  ##商品类别的数量\n",
    "print('共有{}个不同的用户，{}个不同的商品,{}个不同的商品类别' .format(unique_user_id, unique_item_id, unique_item_category))"
   ]
  },
  {
   "cell_type": "code",
   "execution_count": 5,
   "id": "5a8e253e-696c-4282-873a-f2e647f9a341",
   "metadata": {},
   "outputs": [
    {
     "data": {
      "text/plain": [
       "user_id          0\n",
       "item_id          0\n",
       "behavior_type    0\n",
       "item_category    0\n",
       "time             0\n",
       "dtype: int64"
      ]
     },
     "execution_count": 5,
     "metadata": {},
     "output_type": "execute_result"
    }
   ],
   "source": [
    "data.isnull().sum()  ##查看数据中是否有缺失值"
   ]
  },
  {
   "cell_type": "code",
   "execution_count": 6,
   "id": "038d51ac-3994-4203-b11c-bc7a3c061114",
   "metadata": {},
   "outputs": [
    {
     "name": "stdout",
     "output_type": "stream",
     "text": [
      "<class 'pandas.core.frame.DataFrame'>\n",
      "RangeIndex: 12256906 entries, 0 to 12256905\n",
      "Data columns (total 5 columns):\n",
      " #   Column         Dtype \n",
      "---  ------         ----- \n",
      " 0   user_id        int64 \n",
      " 1   item_id        int64 \n",
      " 2   behavior_type  int64 \n",
      " 3   item_category  int64 \n",
      " 4   time           object\n",
      "dtypes: int64(4), object(1)\n",
      "memory usage: 467.6+ MB\n"
     ]
    }
   ],
   "source": [
    "data.info()  ##查看数据类型"
   ]
  },
  {
   "cell_type": "code",
   "execution_count": 7,
   "id": "ff314e45-e8c5-413c-809a-ffae85fc07c5",
   "metadata": {},
   "outputs": [],
   "source": [
    "data['user_id'] = data['user_id'].astype(object)\n",
    "data['item_id'] = data['item_id'].astype(object)\n",
    "data['item_category'] = data['item_category'].astype(object)"
   ]
  },
  {
   "cell_type": "code",
   "execution_count": 8,
   "id": "d77b57f5-c4b6-4eca-ac1f-a3b58c4683b9",
   "metadata": {},
   "outputs": [
    {
     "name": "stdout",
     "output_type": "stream",
     "text": [
      "<class 'pandas.core.frame.DataFrame'>\n",
      "RangeIndex: 12256906 entries, 0 to 12256905\n",
      "Data columns (total 5 columns):\n",
      " #   Column         Dtype \n",
      "---  ------         ----- \n",
      " 0   user_id        object\n",
      " 1   item_id        object\n",
      " 2   behavior_type  int64 \n",
      " 3   item_category  object\n",
      " 4   time           object\n",
      "dtypes: int64(1), object(4)\n",
      "memory usage: 467.6+ MB\n"
     ]
    }
   ],
   "source": [
    "data.info()  ##查看数据类型"
   ]
  },
  {
   "cell_type": "code",
   "execution_count": 9,
   "id": "069557b8-df86-497e-aa61-616841944e80",
   "metadata": {},
   "outputs": [],
   "source": [
    "data['date'] = data['time'].map(lambda x: x.split(' ')[0])\n",
    "data['hour'] = data['time'].map(lambda x: x.split(' ')[1])"
   ]
  },
  {
   "cell_type": "markdown",
   "id": "014da26a-d141-4de9-845b-40276934b71c",
   "metadata": {},
   "source": [
    "将时间中的日期和小时拆分开,方便后续进行按天分析和按每天的小时分析"
   ]
  },
  {
   "cell_type": "code",
   "execution_count": 10,
   "id": "8cfead44-08fa-4cc4-b7dc-2aab79d6d1f6",
   "metadata": {},
   "outputs": [
    {
     "data": {
      "text/html": [
       "<div>\n",
       "<style scoped>\n",
       "    .dataframe tbody tr th:only-of-type {\n",
       "        vertical-align: middle;\n",
       "    }\n",
       "\n",
       "    .dataframe tbody tr th {\n",
       "        vertical-align: top;\n",
       "    }\n",
       "\n",
       "    .dataframe thead th {\n",
       "        text-align: right;\n",
       "    }\n",
       "</style>\n",
       "<table border=\"1\" class=\"dataframe\">\n",
       "  <thead>\n",
       "    <tr style=\"text-align: right;\">\n",
       "      <th></th>\n",
       "      <th>user_id</th>\n",
       "      <th>item_id</th>\n",
       "      <th>behavior_type</th>\n",
       "      <th>item_category</th>\n",
       "      <th>time</th>\n",
       "      <th>date</th>\n",
       "      <th>hour</th>\n",
       "    </tr>\n",
       "  </thead>\n",
       "  <tbody>\n",
       "    <tr>\n",
       "      <th>0</th>\n",
       "      <td>98047837</td>\n",
       "      <td>232431562</td>\n",
       "      <td>1</td>\n",
       "      <td>4245</td>\n",
       "      <td>2014-12-06 02</td>\n",
       "      <td>2014-12-06</td>\n",
       "      <td>02</td>\n",
       "    </tr>\n",
       "    <tr>\n",
       "      <th>1</th>\n",
       "      <td>97726136</td>\n",
       "      <td>383583590</td>\n",
       "      <td>1</td>\n",
       "      <td>5894</td>\n",
       "      <td>2014-12-09 20</td>\n",
       "      <td>2014-12-09</td>\n",
       "      <td>20</td>\n",
       "    </tr>\n",
       "    <tr>\n",
       "      <th>2</th>\n",
       "      <td>98607707</td>\n",
       "      <td>64749712</td>\n",
       "      <td>1</td>\n",
       "      <td>2883</td>\n",
       "      <td>2014-12-18 11</td>\n",
       "      <td>2014-12-18</td>\n",
       "      <td>11</td>\n",
       "    </tr>\n",
       "    <tr>\n",
       "      <th>3</th>\n",
       "      <td>98662432</td>\n",
       "      <td>320593836</td>\n",
       "      <td>1</td>\n",
       "      <td>6562</td>\n",
       "      <td>2014-12-06 10</td>\n",
       "      <td>2014-12-06</td>\n",
       "      <td>10</td>\n",
       "    </tr>\n",
       "    <tr>\n",
       "      <th>4</th>\n",
       "      <td>98145908</td>\n",
       "      <td>290208520</td>\n",
       "      <td>1</td>\n",
       "      <td>13926</td>\n",
       "      <td>2014-12-16 21</td>\n",
       "      <td>2014-12-16</td>\n",
       "      <td>21</td>\n",
       "    </tr>\n",
       "    <tr>\n",
       "      <th>5</th>\n",
       "      <td>93784494</td>\n",
       "      <td>337869048</td>\n",
       "      <td>1</td>\n",
       "      <td>3979</td>\n",
       "      <td>2014-12-03 20</td>\n",
       "      <td>2014-12-03</td>\n",
       "      <td>20</td>\n",
       "    </tr>\n",
       "    <tr>\n",
       "      <th>6</th>\n",
       "      <td>94832743</td>\n",
       "      <td>105749725</td>\n",
       "      <td>1</td>\n",
       "      <td>9559</td>\n",
       "      <td>2014-12-13 20</td>\n",
       "      <td>2014-12-13</td>\n",
       "      <td>20</td>\n",
       "    </tr>\n",
       "    <tr>\n",
       "      <th>7</th>\n",
       "      <td>95290487</td>\n",
       "      <td>76866650</td>\n",
       "      <td>1</td>\n",
       "      <td>10875</td>\n",
       "      <td>2014-11-27 16</td>\n",
       "      <td>2014-11-27</td>\n",
       "      <td>16</td>\n",
       "    </tr>\n",
       "    <tr>\n",
       "      <th>8</th>\n",
       "      <td>96610296</td>\n",
       "      <td>161166643</td>\n",
       "      <td>1</td>\n",
       "      <td>3064</td>\n",
       "      <td>2014-12-11 23</td>\n",
       "      <td>2014-12-11</td>\n",
       "      <td>23</td>\n",
       "    </tr>\n",
       "    <tr>\n",
       "      <th>9</th>\n",
       "      <td>100684618</td>\n",
       "      <td>21751142</td>\n",
       "      <td>3</td>\n",
       "      <td>2158</td>\n",
       "      <td>2014-12-05 23</td>\n",
       "      <td>2014-12-05</td>\n",
       "      <td>23</td>\n",
       "    </tr>\n",
       "  </tbody>\n",
       "</table>\n",
       "</div>"
      ],
      "text/plain": [
       "     user_id    item_id  behavior_type item_category           time  \\\n",
       "0   98047837  232431562              1          4245  2014-12-06 02   \n",
       "1   97726136  383583590              1          5894  2014-12-09 20   \n",
       "2   98607707   64749712              1          2883  2014-12-18 11   \n",
       "3   98662432  320593836              1          6562  2014-12-06 10   \n",
       "4   98145908  290208520              1         13926  2014-12-16 21   \n",
       "5   93784494  337869048              1          3979  2014-12-03 20   \n",
       "6   94832743  105749725              1          9559  2014-12-13 20   \n",
       "7   95290487   76866650              1         10875  2014-11-27 16   \n",
       "8   96610296  161166643              1          3064  2014-12-11 23   \n",
       "9  100684618   21751142              3          2158  2014-12-05 23   \n",
       "\n",
       "         date hour  \n",
       "0  2014-12-06   02  \n",
       "1  2014-12-09   20  \n",
       "2  2014-12-18   11  \n",
       "3  2014-12-06   10  \n",
       "4  2014-12-16   21  \n",
       "5  2014-12-03   20  \n",
       "6  2014-12-13   20  \n",
       "7  2014-11-27   16  \n",
       "8  2014-12-11   23  \n",
       "9  2014-12-05   23  "
      ]
     },
     "execution_count": 10,
     "metadata": {},
     "output_type": "execute_result"
    }
   ],
   "source": [
    "data.head(10)  ##查看前10条数据"
   ]
  },
  {
   "cell_type": "code",
   "execution_count": 11,
   "id": "5f972945-58ea-474d-8efb-1c6ca51f5cdd",
   "metadata": {},
   "outputs": [],
   "source": [
    "data['date'] = pd.to_datetime(data['date'])\n",
    "data['hour'] = data['hour'].astype('int64')"
   ]
  },
  {
   "cell_type": "code",
   "execution_count": 12,
   "id": "1c04adbd-e6d3-4057-824c-eaf818ddc33c",
   "metadata": {},
   "outputs": [
    {
     "name": "stdout",
     "output_type": "stream",
     "text": [
      "<class 'pandas.core.frame.DataFrame'>\n",
      "RangeIndex: 12256906 entries, 0 to 12256905\n",
      "Data columns (total 7 columns):\n",
      " #   Column         Dtype         \n",
      "---  ------         -----         \n",
      " 0   user_id        object        \n",
      " 1   item_id        object        \n",
      " 2   behavior_type  int64         \n",
      " 3   item_category  object        \n",
      " 4   time           object        \n",
      " 5   date           datetime64[ns]\n",
      " 6   hour           int64         \n",
      "dtypes: datetime64[ns](1), int64(2), object(4)\n",
      "memory usage: 654.6+ MB\n"
     ]
    }
   ],
   "source": [
    "data.info()"
   ]
  },
  {
   "cell_type": "markdown",
   "id": "f7fb328a-6896-4be7-9e52-5f050a7bcd35",
   "metadata": {},
   "source": [
    "# 数据分析和可视化"
   ]
  },
  {
   "cell_type": "code",
   "execution_count": 13,
   "id": "ad2c37fa-c898-4749-b0cd-64a64a3e8202",
   "metadata": {},
   "outputs": [],
   "source": [
    "x = ['浏览','收藏','加购物车','购买']\n",
    "y = data.groupby('behavior_type').count()['user_id']\n",
    "y = y.values"
   ]
  },
  {
   "cell_type": "code",
   "execution_count": 14,
   "id": "48dad30f-f305-4a35-be22-4a203b5d7aaf",
   "metadata": {},
   "outputs": [
    {
     "data": {
      "image/png": "[encoded data removed]",
      "text/plain": [
       "<Figure size 640x480 with 1 Axes>"
      ]
     },
     "metadata": {},
     "output_type": "display_data"
    }
   ],
   "source": [
    "plt.bar(x,y)\n",
    "plt.title('用户行为分布柱状图')\n",
    "plt.xlabel('用户行为')\n",
    "plt.ylabel('数量')\n",
    "plt.rcParams['font.sans-serif'] = ['SimHei']\n",
    "plt.show()"
   ]
  },
  {
   "cell_type": "markdown",
   "id": "412ece8a-8deb-4c9b-ac60-4374c71989e1",
   "metadata": {},
   "source": [
    "## 流量分析\n",
    "PV：PV即页面访问量，是指一定时间内用户对某个网页的访问次数<br>\n",
    "UV: UV即独立访客，是指一定时间内访问某个网站的唯一用户的数量"
   ]
  },
  {
   "cell_type": "markdown",
   "id": "71bb7ca7-e1f6-410d-bd08-732883cad2de",
   "metadata": {},
   "source": [
    "### (1)以天为单位进行流量分析"
   ]
  },
  {
   "cell_type": "code",
   "execution_count": 15,
   "id": "acd8e792-d4ba-42f1-8124-7743d8f1d123",
   "metadata": {},
   "outputs": [
    {
     "data": {
      "text/html": [
       "<div>\n",
       "<style scoped>\n",
       "    .dataframe tbody tr th:only-of-type {\n",
       "        vertical-align: middle;\n",
       "    }\n",
       "\n",
       "    .dataframe tbody tr th {\n",
       "        vertical-align: top;\n",
       "    }\n",
       "\n",
       "    .dataframe thead th {\n",
       "        text-align: right;\n",
       "    }\n",
       "</style>\n",
       "<table border=\"1\" class=\"dataframe\">\n",
       "  <thead>\n",
       "    <tr style=\"text-align: right;\">\n",
       "      <th></th>\n",
       "      <th>date</th>\n",
       "      <th>PV_day_cnt</th>\n",
       "    </tr>\n",
       "  </thead>\n",
       "  <tbody>\n",
       "    <tr>\n",
       "      <th>0</th>\n",
       "      <td>2014-11-18</td>\n",
       "      <td>366701</td>\n",
       "    </tr>\n",
       "    <tr>\n",
       "      <th>1</th>\n",
       "      <td>2014-11-19</td>\n",
       "      <td>358823</td>\n",
       "    </tr>\n",
       "    <tr>\n",
       "      <th>2</th>\n",
       "      <td>2014-11-20</td>\n",
       "      <td>353429</td>\n",
       "    </tr>\n",
       "    <tr>\n",
       "      <th>3</th>\n",
       "      <td>2014-11-21</td>\n",
       "      <td>333104</td>\n",
       "    </tr>\n",
       "    <tr>\n",
       "      <th>4</th>\n",
       "      <td>2014-11-22</td>\n",
       "      <td>361355</td>\n",
       "    </tr>\n",
       "  </tbody>\n",
       "</table>\n",
       "</div>"
      ],
      "text/plain": [
       "        date  PV_day_cnt\n",
       "0 2014-11-18      366701\n",
       "1 2014-11-19      358823\n",
       "2 2014-11-20      353429\n",
       "3 2014-11-21      333104\n",
       "4 2014-11-22      361355"
      ]
     },
     "execution_count": 15,
     "metadata": {},
     "output_type": "execute_result"
    }
   ],
   "source": [
    "PV_day = data.groupby('date').count()['user_id'].reset_index(name = 'PV_day_cnt')\n",
    "PV_day.head()"
   ]
  },
  {
   "cell_type": "code",
   "execution_count": 16,
   "id": "90325a14-6fd0-4d2c-86e2-80c3394fe44d",
   "metadata": {},
   "outputs": [
    {
     "data": {
      "image/png": "[encoded data removed]",
      "text/plain": [
       "<Figure size 640x480 with 1 Axes>"
      ]
     },
     "metadata": {},
     "output_type": "display_data"
    }
   ],
   "source": [
    "sns.lineplot(x = PV_day['date'],y = PV_day['PV_day_cnt'])\n",
    "plt.xlabel('日期')\n",
    "plt.xticks([])\n",
    "plt.ylabel('PV')\n",
    "plt.rcParams['font.sans-serif'] = ['SimHei']\n",
    "plt.show()"
   ]
  },
  {
   "cell_type": "code",
   "execution_count": 17,
   "id": "29d10603-eb3b-448d-8a50-19b53f8acc81",
   "metadata": {},
   "outputs": [
    {
     "data": {
      "text/html": [
       "<div>\n",
       "<style scoped>\n",
       "    .dataframe tbody tr th:only-of-type {\n",
       "        vertical-align: middle;\n",
       "    }\n",
       "\n",
       "    .dataframe tbody tr th {\n",
       "        vertical-align: top;\n",
       "    }\n",
       "\n",
       "    .dataframe thead th {\n",
       "        text-align: right;\n",
       "    }\n",
       "</style>\n",
       "<table border=\"1\" class=\"dataframe\">\n",
       "  <thead>\n",
       "    <tr style=\"text-align: right;\">\n",
       "      <th></th>\n",
       "      <th>date</th>\n",
       "      <th>UV_day_cnt</th>\n",
       "    </tr>\n",
       "  </thead>\n",
       "  <tbody>\n",
       "    <tr>\n",
       "      <th>0</th>\n",
       "      <td>2014-11-18</td>\n",
       "      <td>6343</td>\n",
       "    </tr>\n",
       "    <tr>\n",
       "      <th>1</th>\n",
       "      <td>2014-11-19</td>\n",
       "      <td>6420</td>\n",
       "    </tr>\n",
       "    <tr>\n",
       "      <th>2</th>\n",
       "      <td>2014-11-20</td>\n",
       "      <td>6333</td>\n",
       "    </tr>\n",
       "    <tr>\n",
       "      <th>3</th>\n",
       "      <td>2014-11-21</td>\n",
       "      <td>6276</td>\n",
       "    </tr>\n",
       "    <tr>\n",
       "      <th>4</th>\n",
       "      <td>2014-11-22</td>\n",
       "      <td>6187</td>\n",
       "    </tr>\n",
       "  </tbody>\n",
       "</table>\n",
       "</div>"
      ],
      "text/plain": [
       "        date  UV_day_cnt\n",
       "0 2014-11-18        6343\n",
       "1 2014-11-19        6420\n",
       "2 2014-11-20        6333\n",
       "3 2014-11-21        6276\n",
       "4 2014-11-22        6187"
      ]
     },
     "execution_count": 17,
     "metadata": {},
     "output_type": "execute_result"
    }
   ],
   "source": [
    "UV_day = data.groupby('date')['user_id'].nunique()\n",
    "UV_day = UV_day.reset_index()\n",
    "UV_day = UV_day.rename(columns={'user_id': 'UV_day_cnt'})\n",
    "UV_day.head()"
   ]
  },
  {
   "cell_type": "code",
   "execution_count": 18,
   "id": "8000a1f1-95ae-4726-b511-65941803b9f8",
   "metadata": {},
   "outputs": [
    {
     "data": {
      "image/png": "[encoded data removed]",
      "text/plain": [
       "<Figure size 640x480 with 1 Axes>"
      ]
     },
     "metadata": {},
     "output_type": "display_data"
    }
   ],
   "source": [
    "sns.lineplot(x=UV_day['date'], y=UV_day['UV_day_cnt'])\n",
    "plt.xlabel('日期')\n",
    "plt.xticks([])\n",
    "plt.ylabel('UV')\n",
    "plt.rcParams['font.sans-serif'] = ['SimHei']\n",
    "plt.show()"
   ]
  },
  {
   "cell_type": "markdown",
   "id": "495848c5-7304-4838-970f-d71aea7b61c3",
   "metadata": {},
   "source": [
    "上面以天为跨度就行流量统计的时候,PV和UV均出现一个尖峰,这是双十二大促造成的,下面我们分析以小时为跨度,因为在一天当中,用户浏览购物应该也是有时段差异的"
   ]
  },
  {
   "cell_type": "markdown",
   "id": "bbf7996c-d6d4-458a-9e51-4c93a5e8041e",
   "metadata": {},
   "source": [
    "### (2)以小时为单位进行流量分析"
   ]
  },
  {
   "cell_type": "code",
   "execution_count": 19,
   "id": "fa9d348e-a86a-4897-b07c-8a657bc94c20",
   "metadata": {},
   "outputs": [
    {
     "data": {
      "text/html": [
       "<div>\n",
       "<style scoped>\n",
       "    .dataframe tbody tr th:only-of-type {\n",
       "        vertical-align: middle;\n",
       "    }\n",
       "\n",
       "    .dataframe tbody tr th {\n",
       "        vertical-align: top;\n",
       "    }\n",
       "\n",
       "    .dataframe thead th {\n",
       "        text-align: right;\n",
       "    }\n",
       "</style>\n",
       "<table border=\"1\" class=\"dataframe\">\n",
       "  <thead>\n",
       "    <tr style=\"text-align: right;\">\n",
       "      <th></th>\n",
       "      <th>hour</th>\n",
       "      <th>PV_hour_cnt</th>\n",
       "    </tr>\n",
       "  </thead>\n",
       "  <tbody>\n",
       "    <tr>\n",
       "      <th>0</th>\n",
       "      <td>0</td>\n",
       "      <td>517404</td>\n",
       "    </tr>\n",
       "    <tr>\n",
       "      <th>1</th>\n",
       "      <td>1</td>\n",
       "      <td>267682</td>\n",
       "    </tr>\n",
       "    <tr>\n",
       "      <th>2</th>\n",
       "      <td>2</td>\n",
       "      <td>147090</td>\n",
       "    </tr>\n",
       "    <tr>\n",
       "      <th>3</th>\n",
       "      <td>3</td>\n",
       "      <td>98516</td>\n",
       "    </tr>\n",
       "    <tr>\n",
       "      <th>4</th>\n",
       "      <td>4</td>\n",
       "      <td>80487</td>\n",
       "    </tr>\n",
       "  </tbody>\n",
       "</table>\n",
       "</div>"
      ],
      "text/plain": [
       "   hour  PV_hour_cnt\n",
       "0     0       517404\n",
       "1     1       267682\n",
       "2     2       147090\n",
       "3     3        98516\n",
       "4     4        80487"
      ]
     },
     "execution_count": 19,
     "metadata": {},
     "output_type": "execute_result"
    }
   ],
   "source": [
    "PV_hour = data.groupby('hour').count()['user_id']\n",
    "PV_hour = PV_hour.reset_index()\n",
    "PV_hour = PV_hour.rename(columns={'user_id': 'PV_hour_cnt'})\n",
    "PV_hour.head()"
   ]
  },
  {
   "cell_type": "code",
   "execution_count": 20,
   "id": "c3733ee6-f3e6-4eb9-a0cf-79079d8c43a4",
   "metadata": {},
   "outputs": [
    {
     "data": {
      "image/png": "[encoded data removed]",
      "text/plain": [
       "<Figure size 640x480 with 1 Axes>"
      ]
     },
     "metadata": {},
     "output_type": "display_data"
    }
   ],
   "source": [
    "sns.lineplot(x = PV_hour['hour'], y = PV_hour['PV_hour_cnt'])\n",
    "plt.xlabel('小时')\n",
    "plt.ylabel('PV')\n",
    "plt.rcParams['font.sans-serif'] = ['SimHei']\n",
    "plt.show()"
   ]
  },
  {
   "cell_type": "code",
   "execution_count": 21,
   "id": "2300a654-2e99-4ff5-af00-4dddd7e5e380",
   "metadata": {},
   "outputs": [
    {
     "data": {
      "text/html": [
       "<div>\n",
       "<style scoped>\n",
       "    .dataframe tbody tr th:only-of-type {\n",
       "        vertical-align: middle;\n",
       "    }\n",
       "\n",
       "    .dataframe tbody tr th {\n",
       "        vertical-align: top;\n",
       "    }\n",
       "\n",
       "    .dataframe thead th {\n",
       "        text-align: right;\n",
       "    }\n",
       "</style>\n",
       "<table border=\"1\" class=\"dataframe\">\n",
       "  <thead>\n",
       "    <tr style=\"text-align: right;\">\n",
       "      <th></th>\n",
       "      <th>hour</th>\n",
       "      <th>UV_hour_cnt</th>\n",
       "    </tr>\n",
       "  </thead>\n",
       "  <tbody>\n",
       "    <tr>\n",
       "      <th>0</th>\n",
       "      <td>0</td>\n",
       "      <td>5786</td>\n",
       "    </tr>\n",
       "    <tr>\n",
       "      <th>1</th>\n",
       "      <td>1</td>\n",
       "      <td>3780</td>\n",
       "    </tr>\n",
       "    <tr>\n",
       "      <th>2</th>\n",
       "      <td>2</td>\n",
       "      <td>2532</td>\n",
       "    </tr>\n",
       "    <tr>\n",
       "      <th>3</th>\n",
       "      <td>3</td>\n",
       "      <td>1937</td>\n",
       "    </tr>\n",
       "    <tr>\n",
       "      <th>4</th>\n",
       "      <td>4</td>\n",
       "      <td>1765</td>\n",
       "    </tr>\n",
       "  </tbody>\n",
       "</table>\n",
       "</div>"
      ],
      "text/plain": [
       "   hour  UV_hour_cnt\n",
       "0     0         5786\n",
       "1     1         3780\n",
       "2     2         2532\n",
       "3     3         1937\n",
       "4     4         1765"
      ]
     },
     "execution_count": 21,
     "metadata": {},
     "output_type": "execute_result"
    }
   ],
   "source": [
    "UV_hour = data.groupby('hour')['user_id'].nunique()\n",
    "UV_hour = UV_hour.reset_index()\n",
    "UV_hour = UV_hour.rename(columns={'user_id': 'UV_hour_cnt'})\n",
    "UV_hour.head()"
   ]
  },
  {
   "cell_type": "code",
   "execution_count": 22,
   "id": "48640704-f1ad-4c6a-93e2-ec0661959e39",
   "metadata": {},
   "outputs": [
    {
     "data": {
      "image/png": "[encoded data removed]",
      "text/plain": [
       "<Figure size 640x480 with 1 Axes>"
      ]
     },
     "metadata": {},
     "output_type": "display_data"
    }
   ],
   "source": [
    "sns.lineplot(x = UV_hour['hour'], y = UV_hour['UV_hour_cnt'])\n",
    "plt.xlabel('小时')\n",
    "plt.ylabel('UV')\n",
    "plt.rcParams['font.sans-serif'] = ['SimHei']\n",
    "plt.show()"
   ]
  },
  {
   "cell_type": "markdown",
   "id": "151b8880-5c6b-41e4-8922-0d6421063ffb",
   "metadata": {},
   "source": [
    "可以看出大家浏览购物页面在晚上8点以后是最高的，是大家下班回到家之后的时间，这个图也符合我们的预期,下面我们来看一下双十二当天的PV和UV数据"
   ]
  },
  {
   "cell_type": "code",
   "execution_count": 23,
   "id": "8d3e64e5-0891-435e-ace4-9a6ec999f273",
   "metadata": {},
   "outputs": [
    {
     "data": {
      "text/html": [
       "<div>\n",
       "<style scoped>\n",
       "    .dataframe tbody tr th:only-of-type {\n",
       "        vertical-align: middle;\n",
       "    }\n",
       "\n",
       "    .dataframe tbody tr th {\n",
       "        vertical-align: top;\n",
       "    }\n",
       "\n",
       "    .dataframe thead th {\n",
       "        text-align: right;\n",
       "    }\n",
       "</style>\n",
       "<table border=\"1\" class=\"dataframe\">\n",
       "  <thead>\n",
       "    <tr style=\"text-align: right;\">\n",
       "      <th></th>\n",
       "      <th>hour</th>\n",
       "      <th>PV_12_hour_cnt</th>\n",
       "    </tr>\n",
       "  </thead>\n",
       "  <tbody>\n",
       "    <tr>\n",
       "      <th>0</th>\n",
       "      <td>0</td>\n",
       "      <td>50030</td>\n",
       "    </tr>\n",
       "    <tr>\n",
       "      <th>1</th>\n",
       "      <td>1</td>\n",
       "      <td>22761</td>\n",
       "    </tr>\n",
       "    <tr>\n",
       "      <th>2</th>\n",
       "      <td>2</td>\n",
       "      <td>11754</td>\n",
       "    </tr>\n",
       "    <tr>\n",
       "      <th>3</th>\n",
       "      <td>3</td>\n",
       "      <td>6173</td>\n",
       "    </tr>\n",
       "    <tr>\n",
       "      <th>4</th>\n",
       "      <td>4</td>\n",
       "      <td>5168</td>\n",
       "    </tr>\n",
       "  </tbody>\n",
       "</table>\n",
       "</div>"
      ],
      "text/plain": [
       "   hour  PV_12_hour_cnt\n",
       "0     0           50030\n",
       "1     1           22761\n",
       "2     2           11754\n",
       "3     3            6173\n",
       "4     4            5168"
      ]
     },
     "execution_count": 23,
     "metadata": {},
     "output_type": "execute_result"
    }
   ],
   "source": [
    "PV_12_hour =  data[data['date'] == '2014-12-12'].groupby('hour')['user_id'].count()\n",
    "PV_12_hour = PV_12_hour.reset_index()\n",
    "PV_12_hour = PV_12_hour.rename(columns={'user_id': 'PV_12_hour_cnt'})\n",
    "PV_12_hour.head()"
   ]
  },
  {
   "cell_type": "code",
   "execution_count": 24,
   "id": "333ef51e-aac8-42a9-a57e-cb25ad19cc32",
   "metadata": {},
   "outputs": [
    {
     "data": {
      "image/png": "[encoded data removed]",
      "text/plain": [
       "<Figure size 640x480 with 1 Axes>"
      ]
     },
     "metadata": {},
     "output_type": "display_data"
    }
   ],
   "source": [
    "sns.lineplot(x= PV_12_hour['hour'], y = PV_12_hour['PV_12_hour_cnt'])\n",
    "plt.xlabel('小时')\n",
    "plt.ylabel('PV')\n",
    "plt.title('双十二当天PV变化情况')\n",
    "plt.rcParams['font.sans-serif'] = ['SimHei']\n",
    "plt.show()"
   ]
  },
  {
   "cell_type": "code",
   "execution_count": 25,
   "id": "b9ff15ed-1409-4897-a7d3-c8aa959ef686",
   "metadata": {},
   "outputs": [
    {
     "data": {
      "text/html": [
       "<div>\n",
       "<style scoped>\n",
       "    .dataframe tbody tr th:only-of-type {\n",
       "        vertical-align: middle;\n",
       "    }\n",
       "\n",
       "    .dataframe tbody tr th {\n",
       "        vertical-align: top;\n",
       "    }\n",
       "\n",
       "    .dataframe thead th {\n",
       "        text-align: right;\n",
       "    }\n",
       "</style>\n",
       "<table border=\"1\" class=\"dataframe\">\n",
       "  <thead>\n",
       "    <tr style=\"text-align: right;\">\n",
       "      <th></th>\n",
       "      <th>hour</th>\n",
       "      <th>UV_12_hour_cnt</th>\n",
       "    </tr>\n",
       "  </thead>\n",
       "  <tbody>\n",
       "    <tr>\n",
       "      <th>0</th>\n",
       "      <td>0</td>\n",
       "      <td>5786</td>\n",
       "    </tr>\n",
       "    <tr>\n",
       "      <th>1</th>\n",
       "      <td>1</td>\n",
       "      <td>3780</td>\n",
       "    </tr>\n",
       "    <tr>\n",
       "      <th>2</th>\n",
       "      <td>2</td>\n",
       "      <td>2532</td>\n",
       "    </tr>\n",
       "    <tr>\n",
       "      <th>3</th>\n",
       "      <td>3</td>\n",
       "      <td>1937</td>\n",
       "    </tr>\n",
       "    <tr>\n",
       "      <th>4</th>\n",
       "      <td>4</td>\n",
       "      <td>1765</td>\n",
       "    </tr>\n",
       "  </tbody>\n",
       "</table>\n",
       "</div>"
      ],
      "text/plain": [
       "   hour  UV_12_hour_cnt\n",
       "0     0            5786\n",
       "1     1            3780\n",
       "2     2            2532\n",
       "3     3            1937\n",
       "4     4            1765"
      ]
     },
     "execution_count": 25,
     "metadata": {},
     "output_type": "execute_result"
    }
   ],
   "source": [
    "UV_12_hour = data.groupby('hour')['user_id'].nunique()\n",
    "UV_12_hour = UV_12_hour.reset_index()\n",
    "UV_12_hour = UV_12_hour.rename(columns = {'user_id': 'UV_12_hour_cnt'})\n",
    "UV_12_hour.head()"
   ]
  },
  {
   "cell_type": "code",
   "execution_count": 26,
   "id": "9e2cd36b-0c7d-4d4e-8c9d-aecb97b80372",
   "metadata": {},
   "outputs": [
    {
     "data": {
      "image/png": "[encoded data removed]",
      "text/plain": [
       "<Figure size 640x480 with 1 Axes>"
      ]
     },
     "metadata": {},
     "output_type": "display_data"
    }
   ],
   "source": [
    "sns.lineplot(x=UV_12_hour['hour'],y=UV_12_hour['UV_12_hour_cnt'])\n",
    "plt.title('双十二当天UV变化情况')\n",
    "plt.xlabel('小时')\n",
    "plt.ylabel('UV')\n",
    "plt.rcParams['font.sans-serif'] = ['SimHei']\n",
    "plt.show()"
   ]
  },
  {
   "cell_type": "markdown",
   "id": "7515cdc8-fdda-485c-a8c5-2ad578de9c7b",
   "metadata": {},
   "source": [
    "可以看出零点的时候PV很高，和之前统计的区别比较大，应该是零点的时候付尾款，抢优惠券等所致，而且出现许多尖锐的点，应该也是整点付款/抢优惠券所致"
   ]
  },
  {
   "cell_type": "markdown",
   "id": "27214e93-0eee-4a0c-8513-1e67ac164475",
   "metadata": {},
   "source": [
    "### (3)不同用户行为所对应流量分析\n",
    "不同用户的购物行为有较大差异，比如有的喜欢加购物车一块购买，有的喜欢看中直接下单，因此我们将用户行为和小时进行分组来看一下PV和UV的变化情况"
   ]
  },
  {
   "cell_type": "code",
   "execution_count": 27,
   "id": "1f2bf42a-4016-4700-b554-8c6c80779e34",
   "metadata": {},
   "outputs": [
    {
     "data": {
      "text/html": [
       "<div>\n",
       "<style scoped>\n",
       "    .dataframe tbody tr th:only-of-type {\n",
       "        vertical-align: middle;\n",
       "    }\n",
       "\n",
       "    .dataframe tbody tr th {\n",
       "        vertical-align: top;\n",
       "    }\n",
       "\n",
       "    .dataframe thead th {\n",
       "        text-align: right;\n",
       "    }\n",
       "</style>\n",
       "<table border=\"1\" class=\"dataframe\">\n",
       "  <thead>\n",
       "    <tr style=\"text-align: right;\">\n",
       "      <th></th>\n",
       "      <th>behavior_type</th>\n",
       "      <th>hour</th>\n",
       "      <th>PV_behavior_cnt</th>\n",
       "    </tr>\n",
       "  </thead>\n",
       "  <tbody>\n",
       "    <tr>\n",
       "      <th>0</th>\n",
       "      <td>1</td>\n",
       "      <td>0</td>\n",
       "      <td>487341</td>\n",
       "    </tr>\n",
       "    <tr>\n",
       "      <th>1</th>\n",
       "      <td>1</td>\n",
       "      <td>1</td>\n",
       "      <td>252991</td>\n",
       "    </tr>\n",
       "    <tr>\n",
       "      <th>2</th>\n",
       "      <td>1</td>\n",
       "      <td>2</td>\n",
       "      <td>139139</td>\n",
       "    </tr>\n",
       "    <tr>\n",
       "      <th>3</th>\n",
       "      <td>1</td>\n",
       "      <td>3</td>\n",
       "      <td>93250</td>\n",
       "    </tr>\n",
       "    <tr>\n",
       "      <th>4</th>\n",
       "      <td>1</td>\n",
       "      <td>4</td>\n",
       "      <td>75832</td>\n",
       "    </tr>\n",
       "  </tbody>\n",
       "</table>\n",
       "</div>"
      ],
      "text/plain": [
       "   behavior_type  hour  PV_behavior_cnt\n",
       "0              1     0           487341\n",
       "1              1     1           252991\n",
       "2              1     2           139139\n",
       "3              1     3            93250\n",
       "4              1     4            75832"
      ]
     },
     "execution_count": 27,
     "metadata": {},
     "output_type": "execute_result"
    }
   ],
   "source": [
    "PV_behavior = data.groupby(['behavior_type','hour'])['user_id'].count()\n",
    "PV_behavior = PV_behavior.reset_index()\n",
    "PV_behavior =PV_behavior.rename(columns={'user_id': 'PV_behavior_cnt'})\n",
    "PV_behavior.head()"
   ]
  },
  {
   "cell_type": "code",
   "execution_count": 28,
   "id": "7e5326fd-5f7d-4b77-89cc-4dec75f84667",
   "metadata": {},
   "outputs": [
    {
     "data": {
      "image/png": "[encoded data removed]",
      "text/plain": [
       "<Figure size 640x480 with 1 Axes>"
      ]
     },
     "metadata": {},
     "output_type": "display_data"
    }
   ],
   "source": [
    "sns.lineplot(x = PV_behavior['hour'],y = PV_behavior['PV_behavior_cnt'],hue=PV_behavior['behavior_type'])\n",
    "plt.xlabel('小时')\n",
    "plt.ylabel('PV')\n",
    "plt.rcParams['font.sans-serif'] = ['SimHei']\n",
    "plt.show()"
   ]
  },
  {
   "cell_type": "markdown",
   "id": "ddb38535-a39c-4c56-8783-19392d9b8335",
   "metadata": {},
   "source": [
    "我们发现1和别的差距太大导致看不太清楚2,3,4的变化趋势,我们把1排除掉继续看"
   ]
  },
  {
   "cell_type": "code",
   "execution_count": 29,
   "id": "8bac2a87-f6fb-4e6c-bc65-de7e3339bd96",
   "metadata": {},
   "outputs": [
    {
     "data": {
      "text/html": [
       "<div>\n",
       "<style scoped>\n",
       "    .dataframe tbody tr th:only-of-type {\n",
       "        vertical-align: middle;\n",
       "    }\n",
       "\n",
       "    .dataframe tbody tr th {\n",
       "        vertical-align: top;\n",
       "    }\n",
       "\n",
       "    .dataframe thead th {\n",
       "        text-align: right;\n",
       "    }\n",
       "</style>\n",
       "<table border=\"1\" class=\"dataframe\">\n",
       "  <thead>\n",
       "    <tr style=\"text-align: right;\">\n",
       "      <th></th>\n",
       "      <th>behavior_type</th>\n",
       "      <th>hour</th>\n",
       "      <th>PV_behavior_234_cnt</th>\n",
       "    </tr>\n",
       "  </thead>\n",
       "  <tbody>\n",
       "    <tr>\n",
       "      <th>0</th>\n",
       "      <td>2</td>\n",
       "      <td>0</td>\n",
       "      <td>11062</td>\n",
       "    </tr>\n",
       "    <tr>\n",
       "      <th>1</th>\n",
       "      <td>2</td>\n",
       "      <td>1</td>\n",
       "      <td>6276</td>\n",
       "    </tr>\n",
       "    <tr>\n",
       "      <th>2</th>\n",
       "      <td>2</td>\n",
       "      <td>2</td>\n",
       "      <td>3311</td>\n",
       "    </tr>\n",
       "    <tr>\n",
       "      <th>3</th>\n",
       "      <td>2</td>\n",
       "      <td>3</td>\n",
       "      <td>2282</td>\n",
       "    </tr>\n",
       "    <tr>\n",
       "      <th>4</th>\n",
       "      <td>2</td>\n",
       "      <td>4</td>\n",
       "      <td>2010</td>\n",
       "    </tr>\n",
       "  </tbody>\n",
       "</table>\n",
       "</div>"
      ],
      "text/plain": [
       "   behavior_type  hour  PV_behavior_234_cnt\n",
       "0              2     0                11062\n",
       "1              2     1                 6276\n",
       "2              2     2                 3311\n",
       "3              2     3                 2282\n",
       "4              2     4                 2010"
      ]
     },
     "execution_count": 29,
     "metadata": {},
     "output_type": "execute_result"
    }
   ],
   "source": [
    "PV_behavior_234 = data[data['behavior_type'] != 1].groupby(['behavior_type','hour'])['user_id'].count()\n",
    "PV_behavior_234 = PV_behavior_234.reset_index()\n",
    "PV_behavior_234 = PV_behavior_234.rename(columns={'user_id': 'PV_behavior_234_cnt'})\n",
    "PV_behavior_234.head()"
   ]
  },
  {
   "cell_type": "code",
   "execution_count": 30,
   "id": "32fb419d-b504-46f0-a237-8d4d429553c0",
   "metadata": {},
   "outputs": [
    {
     "data": {
      "image/png": "[encoded data removed]",
      "text/plain": [
       "<Figure size 640x480 with 1 Axes>"
      ]
     },
     "metadata": {},
     "output_type": "display_data"
    }
   ],
   "source": [
    "sns.lineplot(x = PV_behavior_234['hour'],y = PV_behavior_234['PV_behavior_234_cnt'],hue=PV_behavior_234['behavior_type'])\n",
    "plt.xlabel('小时')\n",
    "plt.ylabel('PV')\n",
    "plt.rcParams['font.sans-serif'] = ['SimHei']\n",
    "plt.show()"
   ]
  },
  {
   "cell_type": "markdown",
   "id": "bd157c47-45e1-4ed3-8486-faf77aa423a0",
   "metadata": {},
   "source": [
    "可以看出4种行为按照小时的变化趋势基本一致，都是在晚上8点之后有明显增长，凌晨2-6点是低峰，符合常识"
   ]
  },
  {
   "cell_type": "markdown",
   "id": "8c02ba8e-b73d-4522-87f6-49b3f70a26be",
   "metadata": {},
   "source": [
    "## 转化率分析\n",
    "考虑漏斗:浏览——收藏或加购物车——购买三步漏斗每步对应的转化率:"
   ]
  },
  {
   "cell_type": "code",
   "execution_count": 31,
   "id": "dd218a40-370c-4bbb-8d5e-1791c5e99d6a",
   "metadata": {},
   "outputs": [
    {
     "data": {
      "text/plain": [
       "behavior_type\n",
       "1    11550581\n",
       "2      242556\n",
       "3      343564\n",
       "4      120205\n",
       "Name: user_id, dtype: int64"
      ]
     },
     "execution_count": 31,
     "metadata": {},
     "output_type": "execute_result"
    }
   ],
   "source": [
    "behavior_type_cnt  =  data.groupby(['behavior_type'])['user_id'].count()\n",
    "behavior_type_cnt"
   ]
  },
  {
   "cell_type": "code",
   "execution_count": 32,
   "id": "a76ba7bc-57c5-46eb-8fc7-3ac22d049857",
   "metadata": {},
   "outputs": [
    {
     "name": "stdout",
     "output_type": "stream",
     "text": [
      "浏览到收藏加购物车转化率为: 5.07\n",
      "收藏加购物车到购买转化率为: 20.51\n",
      "浏览到购买的转化率为： 1.04\n"
     ]
    }
   ],
   "source": [
    "scan_num  = behavior_type_cnt[1]\n",
    "collect_num = behavior_type_cnt[2]\n",
    "add_num = behavior_type_cnt[3]\n",
    "buy_num = behavior_type_cnt[4]\n",
    "collect_add_num = collect_num + add_num\n",
    "print('浏览到收藏加购物车转化率为:', round(100*collect_add_num/scan_num,2))\n",
    "print('收藏加购物车到购买转化率为:', round(100*buy_num/collect_add_num,2))\n",
    "print('浏览到购买的转化率为：', round(100*buy_num/scan_num,2))"
   ]
  },
  {
   "cell_type": "markdown",
   "id": "c56114a6-4196-4225-8789-78ca5c0c9d9e",
   "metadata": {},
   "source": [
    "可以观察到，从浏览到加购/收藏的转化率大约5%；“加购/收藏”后到购买转化率大约为20%，这个比例还是还是非常高的，说明用户感兴趣的商品更容易成单。 两者相乘，我们能粗略估出从浏览到购买的转化率约为1%左右。当然也存在一些只买某一件商品直接浏览后购买的行为"
   ]
  },
  {
   "cell_type": "markdown",
   "id": "04f02bd3-2367-4736-b8d3-57005bbe9705",
   "metadata": {},
   "source": [
    "下面我们来看看双十二当天的这些转化率和平常有什么差别"
   ]
  },
  {
   "cell_type": "code",
   "execution_count": 35,
   "id": "240dd89f-5ec6-4b8d-8b6e-487c4b0d0c27",
   "metadata": {},
   "outputs": [
    {
     "data": {
      "text/plain": [
       "behavior_type\n",
       "1    641507\n",
       "2     10446\n",
       "3     24508\n",
       "4     15251\n",
       "Name: user_id, dtype: int64"
      ]
     },
     "execution_count": 35,
     "metadata": {},
     "output_type": "execute_result"
    }
   ],
   "source": [
    "day_12 = data[data['date'] == '2014-12-12']\n",
    "day_12_behavior = day_12.groupby('behavior_type')['user_id'].count()\n",
    "day_12_behavior"
   ]
  },
  {
   "cell_type": "code",
   "execution_count": 36,
   "id": "611b9ed0-61b2-4f31-a995-ccd46d3e6537",
   "metadata": {},
   "outputs": [
    {
     "name": "stdout",
     "output_type": "stream",
     "text": [
      "双十二当天浏览到收藏加购物车转化率为: 5.45\n",
      "双十二当天收藏加购物车到购买转化率为: 43.63\n",
      "双十二当天浏览到购买的转化率为： 2.38\n"
     ]
    }
   ],
   "source": [
    "day_12_scan_num = day_12_behavior[1]\n",
    "day_12_collect_num = day_12_behavior[2]\n",
    "day_12_add_num = day_12_behavior[3]\n",
    "day_12_buy_num = day_12_behavior[4]\n",
    "day_12_collect_add_num = day_12_collect_num + day_12_add_num\n",
    "print('双十二当天浏览到收藏加购物车转化率为:', round(100*day_12_collect_add_num/day_12_scan_num,2))\n",
    "print('双十二当天收藏加购物车到购买转化率为:', round(100*day_12_buy_num/day_12_collect_add_num,2))\n",
    "print('双十二当天浏览到购买的转化率为：', round(100*day_12_buy_num/day_12_scan_num,2))"
   ]
  },
  {
   "cell_type": "markdown",
   "id": "4ca689dd-961c-450f-8bd8-dd610985260c",
   "metadata": {},
   "source": [
    "可以看出，双十二当天，加购/收藏 到 购买转化率是平时的2倍之多，此外，加购/收藏 的转化率也比平时高出不少，说明大促的运营活动对用户活跃度的转化起到了很好的促进作用。"
   ]
  },
  {
   "cell_type": "markdown",
   "id": "e3af2f69-e30f-459f-8b44-9e35d33a8278",
   "metadata": {},
   "source": [
    "## 用户购买频次分析\n",
    "从上面的统计结果来看，用户的点击数据是最多的，但是从淘宝盈利的角度来说，只有购买行为是商家最为关注的，这里就会引入一个问题：在给定的数据集上，淘宝用户购买东西的频次有多少？"
   ]
  },
  {
   "cell_type": "code",
   "execution_count": 37,
   "id": "3bed6012-b55d-43ab-a016-cba79cf2a2b2",
   "metadata": {},
   "outputs": [
    {
     "data": {
      "text/html": [
       "<div>\n",
       "<style scoped>\n",
       "    .dataframe tbody tr th:only-of-type {\n",
       "        vertical-align: middle;\n",
       "    }\n",
       "\n",
       "    .dataframe tbody tr th {\n",
       "        vertical-align: top;\n",
       "    }\n",
       "\n",
       "    .dataframe thead th {\n",
       "        text-align: right;\n",
       "    }\n",
       "</style>\n",
       "<table border=\"1\" class=\"dataframe\">\n",
       "  <thead>\n",
       "    <tr style=\"text-align: right;\">\n",
       "      <th></th>\n",
       "      <th>user_id</th>\n",
       "      <th>usr_buy_cnt</th>\n",
       "    </tr>\n",
       "  </thead>\n",
       "  <tbody>\n",
       "    <tr>\n",
       "      <th>0</th>\n",
       "      <td>4913</td>\n",
       "      <td>6</td>\n",
       "    </tr>\n",
       "    <tr>\n",
       "      <th>1</th>\n",
       "      <td>6118</td>\n",
       "      <td>1</td>\n",
       "    </tr>\n",
       "    <tr>\n",
       "      <th>2</th>\n",
       "      <td>7528</td>\n",
       "      <td>6</td>\n",
       "    </tr>\n",
       "    <tr>\n",
       "      <th>3</th>\n",
       "      <td>7591</td>\n",
       "      <td>21</td>\n",
       "    </tr>\n",
       "    <tr>\n",
       "      <th>4</th>\n",
       "      <td>12645</td>\n",
       "      <td>8</td>\n",
       "    </tr>\n",
       "  </tbody>\n",
       "</table>\n",
       "</div>"
      ],
      "text/plain": [
       "   user_id  usr_buy_cnt\n",
       "0     4913            6\n",
       "1     6118            1\n",
       "2     7528            6\n",
       "3     7591           21\n",
       "4    12645            8"
      ]
     },
     "execution_count": 37,
     "metadata": {},
     "output_type": "execute_result"
    }
   ],
   "source": [
    "data_usr_buy = data[data['behavior_type'] == 4].groupby('user_id')['user_id'].count().reset_index(name='usr_buy_cnt')\n",
    "data_usr_buy.head()"
   ]
  },
  {
   "cell_type": "code",
   "execution_count": 38,
   "id": "ab991eff-21a2-4105-b20d-d5a25096eb4e",
   "metadata": {},
   "outputs": [
    {
     "data": {
      "text/plain": [
       "<Axes: xlabel='user_id'>"
      ]
     },
     "execution_count": 38,
     "metadata": {},
     "output_type": "execute_result"
    },
    {
     "data": {
      "image/png": "[encoded data removed]",
      "text/plain": [
       "<Figure size 640x480 with 1 Axes>"
      ]
     },
     "metadata": {},
     "output_type": "display_data"
    }
   ],
   "source": [
    "data_usr_buy.plot(x='user_id', y='usr_buy_cnt')"
   ]
  },
  {
   "cell_type": "markdown",
   "id": "67bda4b1-9b31-40ab-b353-f335a916c62f",
   "metadata": {},
   "source": [
    "X轴代表user_id，Y轴是每个用户的购买次数。可以看到，大部分用户的购买次数均不超过50次，这期间还包括了双十二当天的集中购物，排除双十二高峰，实际消费次数会更少。当然也有部分用户的购买次数超过百次，甚至有超过800次的，高频消费的用户可以看作是忠实的超级用户。"
   ]
  },
  {
   "cell_type": "markdown",
   "id": "9348833c-154a-4f72-b73f-52af96cc3f79",
   "metadata": {},
   "source": [
    "## ARPU和ARPPU分析 <br>\n",
    "ARPU = 每日消费总次数 / 每日活跃用户数<br>\n",
    "ARPPU = 总收入/活跃用户付费数量<br>"
   ]
  },
  {
   "cell_type": "code",
   "execution_count": 39,
   "id": "a96be665-2430-438e-8d14-80bb677d20bb",
   "metadata": {},
   "outputs": [
    {
     "data": {
      "text/html": [
       "<div>\n",
       "<style scoped>\n",
       "    .dataframe tbody tr th:only-of-type {\n",
       "        vertical-align: middle;\n",
       "    }\n",
       "\n",
       "    .dataframe tbody tr th {\n",
       "        vertical-align: top;\n",
       "    }\n",
       "\n",
       "    .dataframe thead th {\n",
       "        text-align: right;\n",
       "    }\n",
       "</style>\n",
       "<table border=\"1\" class=\"dataframe\">\n",
       "  <thead>\n",
       "    <tr style=\"text-align: right;\">\n",
       "      <th></th>\n",
       "      <th>date</th>\n",
       "      <th>每日消费总次数</th>\n",
       "    </tr>\n",
       "  </thead>\n",
       "  <tbody>\n",
       "    <tr>\n",
       "      <th>0</th>\n",
       "      <td>2014-11-18</td>\n",
       "      <td>3730</td>\n",
       "    </tr>\n",
       "    <tr>\n",
       "      <th>1</th>\n",
       "      <td>2014-11-19</td>\n",
       "      <td>3686</td>\n",
       "    </tr>\n",
       "    <tr>\n",
       "      <th>2</th>\n",
       "      <td>2014-11-20</td>\n",
       "      <td>3462</td>\n",
       "    </tr>\n",
       "    <tr>\n",
       "      <th>3</th>\n",
       "      <td>2014-11-21</td>\n",
       "      <td>3021</td>\n",
       "    </tr>\n",
       "    <tr>\n",
       "      <th>4</th>\n",
       "      <td>2014-11-22</td>\n",
       "      <td>3570</td>\n",
       "    </tr>\n",
       "  </tbody>\n",
       "</table>\n",
       "</div>"
      ],
      "text/plain": [
       "        date  每日消费总次数\n",
       "0 2014-11-18     3730\n",
       "1 2014-11-19     3686\n",
       "2 2014-11-20     3462\n",
       "3 2014-11-21     3021\n",
       "4 2014-11-22     3570"
      ]
     },
     "execution_count": 39,
     "metadata": {},
     "output_type": "execute_result"
    }
   ],
   "source": [
    "buy_cnt = data[data['behavior_type'] == 4].groupby('date')['user_id'].count().reset_index(name='每日消费总次数')\n",
    "buy_cnt.head()"
   ]
  },
  {
   "cell_type": "code",
   "execution_count": 40,
   "id": "1f870411-eca6-4a9e-9073-58f2de6dff9c",
   "metadata": {},
   "outputs": [
    {
     "data": {
      "text/html": [
       "<div>\n",
       "<style scoped>\n",
       "    .dataframe tbody tr th:only-of-type {\n",
       "        vertical-align: middle;\n",
       "    }\n",
       "\n",
       "    .dataframe tbody tr th {\n",
       "        vertical-align: top;\n",
       "    }\n",
       "\n",
       "    .dataframe thead th {\n",
       "        text-align: right;\n",
       "    }\n",
       "</style>\n",
       "<table border=\"1\" class=\"dataframe\">\n",
       "  <thead>\n",
       "    <tr style=\"text-align: right;\">\n",
       "      <th></th>\n",
       "      <th>date</th>\n",
       "      <th>每日活跃用户数</th>\n",
       "    </tr>\n",
       "  </thead>\n",
       "  <tbody>\n",
       "    <tr>\n",
       "      <th>0</th>\n",
       "      <td>2014-11-18</td>\n",
       "      <td>6343</td>\n",
       "    </tr>\n",
       "    <tr>\n",
       "      <th>1</th>\n",
       "      <td>2014-11-19</td>\n",
       "      <td>6420</td>\n",
       "    </tr>\n",
       "    <tr>\n",
       "      <th>2</th>\n",
       "      <td>2014-11-20</td>\n",
       "      <td>6333</td>\n",
       "    </tr>\n",
       "    <tr>\n",
       "      <th>3</th>\n",
       "      <td>2014-11-21</td>\n",
       "      <td>6276</td>\n",
       "    </tr>\n",
       "    <tr>\n",
       "      <th>4</th>\n",
       "      <td>2014-11-22</td>\n",
       "      <td>6187</td>\n",
       "    </tr>\n",
       "  </tbody>\n",
       "</table>\n",
       "</div>"
      ],
      "text/plain": [
       "        date  每日活跃用户数\n",
       "0 2014-11-18     6343\n",
       "1 2014-11-19     6420\n",
       "2 2014-11-20     6333\n",
       "3 2014-11-21     6276\n",
       "4 2014-11-22     6187"
      ]
     },
     "execution_count": 40,
     "metadata": {},
     "output_type": "execute_result"
    }
   ],
   "source": [
    "active_cnt = data.groupby('date')['user_id'].nunique().reset_index(name = '每日活跃用户数')\n",
    "active_cnt.head()"
   ]
  },
  {
   "cell_type": "code",
   "execution_count": 41,
   "id": "3b8878d1-a3a7-48c0-abad-59b0893101ac",
   "metadata": {},
   "outputs": [
    {
     "data": {
      "text/html": [
       "<div>\n",
       "<style scoped>\n",
       "    .dataframe tbody tr th:only-of-type {\n",
       "        vertical-align: middle;\n",
       "    }\n",
       "\n",
       "    .dataframe tbody tr th {\n",
       "        vertical-align: top;\n",
       "    }\n",
       "\n",
       "    .dataframe thead th {\n",
       "        text-align: right;\n",
       "    }\n",
       "</style>\n",
       "<table border=\"1\" class=\"dataframe\">\n",
       "  <thead>\n",
       "    <tr style=\"text-align: right;\">\n",
       "      <th></th>\n",
       "      <th>日期</th>\n",
       "      <th>每日消费总次数</th>\n",
       "      <th>每日活跃用户数</th>\n",
       "      <th>ARPU</th>\n",
       "    </tr>\n",
       "  </thead>\n",
       "  <tbody>\n",
       "    <tr>\n",
       "      <th>0</th>\n",
       "      <td>2014-11-18</td>\n",
       "      <td>3730</td>\n",
       "      <td>6343</td>\n",
       "      <td>0.588050</td>\n",
       "    </tr>\n",
       "    <tr>\n",
       "      <th>1</th>\n",
       "      <td>2014-11-19</td>\n",
       "      <td>3686</td>\n",
       "      <td>6420</td>\n",
       "      <td>0.574143</td>\n",
       "    </tr>\n",
       "    <tr>\n",
       "      <th>2</th>\n",
       "      <td>2014-11-20</td>\n",
       "      <td>3462</td>\n",
       "      <td>6333</td>\n",
       "      <td>0.546660</td>\n",
       "    </tr>\n",
       "    <tr>\n",
       "      <th>3</th>\n",
       "      <td>2014-11-21</td>\n",
       "      <td>3021</td>\n",
       "      <td>6276</td>\n",
       "      <td>0.481358</td>\n",
       "    </tr>\n",
       "    <tr>\n",
       "      <th>4</th>\n",
       "      <td>2014-11-22</td>\n",
       "      <td>3570</td>\n",
       "      <td>6187</td>\n",
       "      <td>0.577016</td>\n",
       "    </tr>\n",
       "  </tbody>\n",
       "</table>\n",
       "</div>"
      ],
      "text/plain": [
       "          日期  每日消费总次数  每日活跃用户数      ARPU\n",
       "0 2014-11-18     3730     6343  0.588050\n",
       "1 2014-11-19     3686     6420  0.574143\n",
       "2 2014-11-20     3462     6333  0.546660\n",
       "3 2014-11-21     3021     6276  0.481358\n",
       "4 2014-11-22     3570     6187  0.577016"
      ]
     },
     "execution_count": 41,
     "metadata": {},
     "output_type": "execute_result"
    }
   ],
   "source": [
    "df = pd.DataFrame({'日期':active_cnt['date'],'每日消费总次数':buy_cnt['每日消费总次数'],'每日活跃用户数':active_cnt['每日活跃用户数']})\n",
    "df['ARPU'] = df['每日消费总次数']/df['每日活跃用户数']\n",
    "df.head()"
   ]
  },
  {
   "cell_type": "markdown",
   "id": "e1cb5d01-567f-4b28-bf78-0890b7261983",
   "metadata": {},
   "source": [
    "由于在该数据集中没有收益金额，因此我们可以对计算方式做一点转化，将总收入转化为总的购买行为次数。\n",
    "定义如下：ARPPU = 当日总消费次数/当日付费用户数"
   ]
  },
  {
   "cell_type": "code",
   "execution_count": 42,
   "id": "113d1a3b-ba4b-4f74-ac4c-a9f74668b75a",
   "metadata": {},
   "outputs": [
    {
     "data": {
      "text/html": [
       "<div>\n",
       "<style scoped>\n",
       "    .dataframe tbody tr th:only-of-type {\n",
       "        vertical-align: middle;\n",
       "    }\n",
       "\n",
       "    .dataframe tbody tr th {\n",
       "        vertical-align: top;\n",
       "    }\n",
       "\n",
       "    .dataframe thead th {\n",
       "        text-align: right;\n",
       "    }\n",
       "</style>\n",
       "<table border=\"1\" class=\"dataframe\">\n",
       "  <thead>\n",
       "    <tr style=\"text-align: right;\">\n",
       "      <th></th>\n",
       "      <th>date</th>\n",
       "      <th>当日付费用户数</th>\n",
       "    </tr>\n",
       "  </thead>\n",
       "  <tbody>\n",
       "    <tr>\n",
       "      <th>0</th>\n",
       "      <td>2014-11-18</td>\n",
       "      <td>1539</td>\n",
       "    </tr>\n",
       "    <tr>\n",
       "      <th>1</th>\n",
       "      <td>2014-11-19</td>\n",
       "      <td>1511</td>\n",
       "    </tr>\n",
       "    <tr>\n",
       "      <th>2</th>\n",
       "      <td>2014-11-20</td>\n",
       "      <td>1492</td>\n",
       "    </tr>\n",
       "    <tr>\n",
       "      <th>3</th>\n",
       "      <td>2014-11-21</td>\n",
       "      <td>1330</td>\n",
       "    </tr>\n",
       "    <tr>\n",
       "      <th>4</th>\n",
       "      <td>2014-11-22</td>\n",
       "      <td>1411</td>\n",
       "    </tr>\n",
       "  </tbody>\n",
       "</table>\n",
       "</div>"
      ],
      "text/plain": [
       "        date  当日付费用户数\n",
       "0 2014-11-18     1539\n",
       "1 2014-11-19     1511\n",
       "2 2014-11-20     1492\n",
       "3 2014-11-21     1330\n",
       "4 2014-11-22     1411"
      ]
     },
     "execution_count": 42,
     "metadata": {},
     "output_type": "execute_result"
    }
   ],
   "source": [
    "active_buy_cnt = data[data['behavior_type'] == 4].groupby('date')['user_id'].nunique().reset_index(name = '当日付费用户数')\n",
    "active_buy_cnt.head()"
   ]
  },
  {
   "cell_type": "code",
   "execution_count": 44,
   "id": "8cace2ae-444c-4108-8514-ee90eea31f18",
   "metadata": {},
   "outputs": [
    {
     "data": {
      "text/html": [
       "<div>\n",
       "<style scoped>\n",
       "    .dataframe tbody tr th:only-of-type {\n",
       "        vertical-align: middle;\n",
       "    }\n",
       "\n",
       "    .dataframe tbody tr th {\n",
       "        vertical-align: top;\n",
       "    }\n",
       "\n",
       "    .dataframe thead th {\n",
       "        text-align: right;\n",
       "    }\n",
       "</style>\n",
       "<table border=\"1\" class=\"dataframe\">\n",
       "  <thead>\n",
       "    <tr style=\"text-align: right;\">\n",
       "      <th></th>\n",
       "      <th>日期</th>\n",
       "      <th>每日消费总次数</th>\n",
       "      <th>每日活跃用户数</th>\n",
       "      <th>ARPU</th>\n",
       "      <th>当日付费用户数</th>\n",
       "      <th>ARPPU</th>\n",
       "    </tr>\n",
       "  </thead>\n",
       "  <tbody>\n",
       "    <tr>\n",
       "      <th>0</th>\n",
       "      <td>2014-11-18</td>\n",
       "      <td>3730</td>\n",
       "      <td>6343</td>\n",
       "      <td>0.588050</td>\n",
       "      <td>1539</td>\n",
       "      <td>2.423652</td>\n",
       "    </tr>\n",
       "    <tr>\n",
       "      <th>1</th>\n",
       "      <td>2014-11-19</td>\n",
       "      <td>3686</td>\n",
       "      <td>6420</td>\n",
       "      <td>0.574143</td>\n",
       "      <td>1511</td>\n",
       "      <td>2.439444</td>\n",
       "    </tr>\n",
       "    <tr>\n",
       "      <th>2</th>\n",
       "      <td>2014-11-20</td>\n",
       "      <td>3462</td>\n",
       "      <td>6333</td>\n",
       "      <td>0.546660</td>\n",
       "      <td>1492</td>\n",
       "      <td>2.320375</td>\n",
       "    </tr>\n",
       "    <tr>\n",
       "      <th>3</th>\n",
       "      <td>2014-11-21</td>\n",
       "      <td>3021</td>\n",
       "      <td>6276</td>\n",
       "      <td>0.481358</td>\n",
       "      <td>1330</td>\n",
       "      <td>2.271429</td>\n",
       "    </tr>\n",
       "    <tr>\n",
       "      <th>4</th>\n",
       "      <td>2014-11-22</td>\n",
       "      <td>3570</td>\n",
       "      <td>6187</td>\n",
       "      <td>0.577016</td>\n",
       "      <td>1411</td>\n",
       "      <td>2.530120</td>\n",
       "    </tr>\n",
       "    <tr>\n",
       "      <th>5</th>\n",
       "      <td>2014-11-23</td>\n",
       "      <td>3347</td>\n",
       "      <td>6373</td>\n",
       "      <td>0.525184</td>\n",
       "      <td>1436</td>\n",
       "      <td>2.330780</td>\n",
       "    </tr>\n",
       "    <tr>\n",
       "      <th>6</th>\n",
       "      <td>2014-11-24</td>\n",
       "      <td>3426</td>\n",
       "      <td>6513</td>\n",
       "      <td>0.526025</td>\n",
       "      <td>1524</td>\n",
       "      <td>2.248031</td>\n",
       "    </tr>\n",
       "    <tr>\n",
       "      <th>7</th>\n",
       "      <td>2014-11-25</td>\n",
       "      <td>3464</td>\n",
       "      <td>6351</td>\n",
       "      <td>0.545426</td>\n",
       "      <td>1497</td>\n",
       "      <td>2.313961</td>\n",
       "    </tr>\n",
       "    <tr>\n",
       "      <th>8</th>\n",
       "      <td>2014-11-26</td>\n",
       "      <td>3573</td>\n",
       "      <td>6357</td>\n",
       "      <td>0.562058</td>\n",
       "      <td>1487</td>\n",
       "      <td>2.402824</td>\n",
       "    </tr>\n",
       "    <tr>\n",
       "      <th>9</th>\n",
       "      <td>2014-11-27</td>\n",
       "      <td>3670</td>\n",
       "      <td>6359</td>\n",
       "      <td>0.577135</td>\n",
       "      <td>1527</td>\n",
       "      <td>2.403405</td>\n",
       "    </tr>\n",
       "    <tr>\n",
       "      <th>10</th>\n",
       "      <td>2014-11-28</td>\n",
       "      <td>3218</td>\n",
       "      <td>6189</td>\n",
       "      <td>0.519955</td>\n",
       "      <td>1442</td>\n",
       "      <td>2.231623</td>\n",
       "    </tr>\n",
       "    <tr>\n",
       "      <th>11</th>\n",
       "      <td>2014-11-29</td>\n",
       "      <td>3211</td>\n",
       "      <td>6224</td>\n",
       "      <td>0.515906</td>\n",
       "      <td>1377</td>\n",
       "      <td>2.331881</td>\n",
       "    </tr>\n",
       "    <tr>\n",
       "      <th>12</th>\n",
       "      <td>2014-11-30</td>\n",
       "      <td>3616</td>\n",
       "      <td>6379</td>\n",
       "      <td>0.566860</td>\n",
       "      <td>1534</td>\n",
       "      <td>2.357236</td>\n",
       "    </tr>\n",
       "    <tr>\n",
       "      <th>13</th>\n",
       "      <td>2014-12-01</td>\n",
       "      <td>3909</td>\n",
       "      <td>6544</td>\n",
       "      <td>0.597341</td>\n",
       "      <td>1657</td>\n",
       "      <td>2.359083</td>\n",
       "    </tr>\n",
       "    <tr>\n",
       "      <th>14</th>\n",
       "      <td>2014-12-02</td>\n",
       "      <td>3621</td>\n",
       "      <td>6550</td>\n",
       "      <td>0.552824</td>\n",
       "      <td>1585</td>\n",
       "      <td>2.284543</td>\n",
       "    </tr>\n",
       "    <tr>\n",
       "      <th>15</th>\n",
       "      <td>2014-12-03</td>\n",
       "      <td>3885</td>\n",
       "      <td>6585</td>\n",
       "      <td>0.589977</td>\n",
       "      <td>1697</td>\n",
       "      <td>2.289334</td>\n",
       "    </tr>\n",
       "    <tr>\n",
       "      <th>16</th>\n",
       "      <td>2014-12-04</td>\n",
       "      <td>3691</td>\n",
       "      <td>6531</td>\n",
       "      <td>0.565151</td>\n",
       "      <td>1585</td>\n",
       "      <td>2.328707</td>\n",
       "    </tr>\n",
       "    <tr>\n",
       "      <th>17</th>\n",
       "      <td>2014-12-05</td>\n",
       "      <td>3319</td>\n",
       "      <td>6367</td>\n",
       "      <td>0.521282</td>\n",
       "      <td>1493</td>\n",
       "      <td>2.223041</td>\n",
       "    </tr>\n",
       "    <tr>\n",
       "      <th>18</th>\n",
       "      <td>2014-12-06</td>\n",
       "      <td>3272</td>\n",
       "      <td>6440</td>\n",
       "      <td>0.508075</td>\n",
       "      <td>1452</td>\n",
       "      <td>2.253444</td>\n",
       "    </tr>\n",
       "    <tr>\n",
       "      <th>19</th>\n",
       "      <td>2014-12-07</td>\n",
       "      <td>3256</td>\n",
       "      <td>6422</td>\n",
       "      <td>0.507007</td>\n",
       "      <td>1403</td>\n",
       "      <td>2.320741</td>\n",
       "    </tr>\n",
       "    <tr>\n",
       "      <th>20</th>\n",
       "      <td>2014-12-08</td>\n",
       "      <td>3419</td>\n",
       "      <td>6564</td>\n",
       "      <td>0.520871</td>\n",
       "      <td>1551</td>\n",
       "      <td>2.204384</td>\n",
       "    </tr>\n",
       "    <tr>\n",
       "      <th>21</th>\n",
       "      <td>2014-12-09</td>\n",
       "      <td>3449</td>\n",
       "      <td>6566</td>\n",
       "      <td>0.525282</td>\n",
       "      <td>1429</td>\n",
       "      <td>2.413576</td>\n",
       "    </tr>\n",
       "    <tr>\n",
       "      <th>22</th>\n",
       "      <td>2014-12-10</td>\n",
       "      <td>3216</td>\n",
       "      <td>6652</td>\n",
       "      <td>0.483464</td>\n",
       "      <td>1442</td>\n",
       "      <td>2.230236</td>\n",
       "    </tr>\n",
       "    <tr>\n",
       "      <th>23</th>\n",
       "      <td>2014-12-11</td>\n",
       "      <td>3226</td>\n",
       "      <td>6894</td>\n",
       "      <td>0.467943</td>\n",
       "      <td>1449</td>\n",
       "      <td>2.226363</td>\n",
       "    </tr>\n",
       "    <tr>\n",
       "      <th>24</th>\n",
       "      <td>2014-12-12</td>\n",
       "      <td>15251</td>\n",
       "      <td>7720</td>\n",
       "      <td>1.975518</td>\n",
       "      <td>3897</td>\n",
       "      <td>3.913523</td>\n",
       "    </tr>\n",
       "    <tr>\n",
       "      <th>25</th>\n",
       "      <td>2014-12-13</td>\n",
       "      <td>3478</td>\n",
       "      <td>6776</td>\n",
       "      <td>0.513282</td>\n",
       "      <td>1549</td>\n",
       "      <td>2.245320</td>\n",
       "    </tr>\n",
       "    <tr>\n",
       "      <th>26</th>\n",
       "      <td>2014-12-14</td>\n",
       "      <td>3483</td>\n",
       "      <td>6668</td>\n",
       "      <td>0.522346</td>\n",
       "      <td>1506</td>\n",
       "      <td>2.312749</td>\n",
       "    </tr>\n",
       "    <tr>\n",
       "      <th>27</th>\n",
       "      <td>2014-12-15</td>\n",
       "      <td>3764</td>\n",
       "      <td>6787</td>\n",
       "      <td>0.554590</td>\n",
       "      <td>1627</td>\n",
       "      <td>2.313460</td>\n",
       "    </tr>\n",
       "    <tr>\n",
       "      <th>28</th>\n",
       "      <td>2014-12-16</td>\n",
       "      <td>3771</td>\n",
       "      <td>6729</td>\n",
       "      <td>0.560410</td>\n",
       "      <td>1650</td>\n",
       "      <td>2.285455</td>\n",
       "    </tr>\n",
       "    <tr>\n",
       "      <th>29</th>\n",
       "      <td>2014-12-17</td>\n",
       "      <td>3615</td>\n",
       "      <td>6643</td>\n",
       "      <td>0.544182</td>\n",
       "      <td>1570</td>\n",
       "      <td>2.302548</td>\n",
       "    </tr>\n",
       "    <tr>\n",
       "      <th>30</th>\n",
       "      <td>2014-12-18</td>\n",
       "      <td>3586</td>\n",
       "      <td>6582</td>\n",
       "      <td>0.544819</td>\n",
       "      <td>1552</td>\n",
       "      <td>2.310567</td>\n",
       "    </tr>\n",
       "  </tbody>\n",
       "</table>\n",
       "</div>"
      ],
      "text/plain": [
       "           日期  每日消费总次数  每日活跃用户数      ARPU  当日付费用户数     ARPPU\n",
       "0  2014-11-18     3730     6343  0.588050     1539  2.423652\n",
       "1  2014-11-19     3686     6420  0.574143     1511  2.439444\n",
       "2  2014-11-20     3462     6333  0.546660     1492  2.320375\n",
       "3  2014-11-21     3021     6276  0.481358     1330  2.271429\n",
       "4  2014-11-22     3570     6187  0.577016     1411  2.530120\n",
       "5  2014-11-23     3347     6373  0.525184     1436  2.330780\n",
       "6  2014-11-24     3426     6513  0.526025     1524  2.248031\n",
       "7  2014-11-25     3464     6351  0.545426     1497  2.313961\n",
       "8  2014-11-26     3573     6357  0.562058     1487  2.402824\n",
       "9  2014-11-27     3670     6359  0.577135     1527  2.403405\n",
       "10 2014-11-28     3218     6189  0.519955     1442  2.231623\n",
       "11 2014-11-29     3211     6224  0.515906     1377  2.331881\n",
       "12 2014-11-30     3616     6379  0.566860     1534  2.357236\n",
       "13 2014-12-01     3909     6544  0.597341     1657  2.359083\n",
       "14 2014-12-02     3621     6550  0.552824     1585  2.284543\n",
       "15 2014-12-03     3885     6585  0.589977     1697  2.289334\n",
       "16 2014-12-04     3691     6531  0.565151     1585  2.328707\n",
       "17 2014-12-05     3319     6367  0.521282     1493  2.223041\n",
       "18 2014-12-06     3272     6440  0.508075     1452  2.253444\n",
       "19 2014-12-07     3256     6422  0.507007     1403  2.320741\n",
       "20 2014-12-08     3419     6564  0.520871     1551  2.204384\n",
       "21 2014-12-09     3449     6566  0.525282     1429  2.413576\n",
       "22 2014-12-10     3216     6652  0.483464     1442  2.230236\n",
       "23 2014-12-11     3226     6894  0.467943     1449  2.226363\n",
       "24 2014-12-12    15251     7720  1.975518     3897  3.913523\n",
       "25 2014-12-13     3478     6776  0.513282     1549  2.245320\n",
       "26 2014-12-14     3483     6668  0.522346     1506  2.312749\n",
       "27 2014-12-15     3764     6787  0.554590     1627  2.313460\n",
       "28 2014-12-16     3771     6729  0.560410     1650  2.285455\n",
       "29 2014-12-17     3615     6643  0.544182     1570  2.302548\n",
       "30 2014-12-18     3586     6582  0.544819     1552  2.310567"
      ]
     },
     "execution_count": 44,
     "metadata": {},
     "output_type": "execute_result"
    }
   ],
   "source": [
    "df['当日付费用户数'] = active_buy_cnt['当日付费用户数']\n",
    "df['ARPPU'] = df['每日消费总次数']/df['当日付费用户数']\n",
    "df"
   ]
  },
  {
   "cell_type": "markdown",
   "id": "aad5b772-bc75-4d8d-86cf-2e46df1752a1",
   "metadata": {},
   "source": [
    "可以看到，针对活跃的下单用户来讲，平均每日消费次数在2-2.5次之间波动，双十二当天该数值达超过3.91，一个可能的原因是用户会在平时把喜欢的商品进行加购，等到双十二促销当天再下单购买"
   ]
  }
 ],
 "metadata": {
  "kernelspec": {
   "display_name": "Python 3 (ipykernel)",
   "language": "python",
   "name": "python3"
  },
  "language_info": {
   "codemirror_mode": {
    "name": "ipython",
    "version": 3
   },
   "file_extension": ".py",
   "mimetype": "text/x-python",
   "name": "python",
   "nbconvert_exporter": "python",
   "pygments_lexer": "ipython3",
   "version": "3.11.2"
  }
 },
 "nbformat": 4,
 "nbformat_minor": 5
}
